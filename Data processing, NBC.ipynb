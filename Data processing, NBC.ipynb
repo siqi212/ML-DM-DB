{
 "cells": [
  {
   "cell_type": "markdown",
   "id": "dadc2bda-83e7-42d0-85e9-34f8d47a3bca",
   "metadata": {},
   "source": [
    "## Q1 Preprocessing"
   ]
  },
  {
   "cell_type": "code",
   "execution_count": null,
   "id": "b04e14e3-0d12-45f8-9b5b-46d6fa6134ed",
   "metadata": {},
   "outputs": [],
   "source": [
    "import pandas as pd\n",
    "import numpy as np\n",
    "import matplotlib.pyplot as plt"
   ]
  },
  {
   "cell_type": "code",
   "execution_count": 73,
   "id": "bc508a9f-1bde-4002-9855-1e7fe329d5fc",
   "metadata": {
    "scrolled": true
   },
   "outputs": [
    {
     "name": "stdout",
     "output_type": "stream",
     "text": [
      "Quotes removed from 8316 cells.\n",
      "Standardized 5707 cells to lower case.\n",
      "Value assigned for male in column gender: 1.\n",
      "Value assigned for European/Caucasian-American in column race: 2.\n",
      "Value assigned for Latino/Hispanic American in column race_o: 3.\n",
      "Value assigned for law in column field: 121.\n",
      "Mean of attractive_important: 0.22\n",
      "Mean of sincere_important: 0.17\n",
      "Mean of intelligence_important: 0.2\n",
      "Mean of funny_important: 0.17\n",
      "Mean of ambition_important: 0.11\n",
      "Mean of shared_interests_important: 0.12\n",
      "Mean of pref_o_attractive: 0.22\n",
      "Mean of pref_o_sincere: 0.17\n",
      "Mean of pref_o_intelligence: 0.2\n",
      "Mean of pref_o_funny: 0.17\n",
      "Mean of pref_o_ambitious: 0.11\n",
      "Mean of pref_o_shared_interests: 0.12\n"
     ]
    }
   ],
   "source": [
    "def process_dating_csv(input_file: str, output_file: str):\n",
    "    # Read the dataset\n",
    "    df = pd.read_csv(input_file)\n",
    "    ######################################################################\n",
    "    # Function to remove quotes and count changes\n",
    "    def remove_quotes(df, columns):\n",
    "        changed_cells = 0\n",
    "        def strip_quotes(cell_value):\n",
    "            nonlocal changed_cells\n",
    "            if isinstance(cell_value, str) and (cell_value.startswith(\"'\") or cell_value.endswith(\"'\")):\n",
    "                cleaned_value = cell_value.strip(\"'\")\n",
    "                if cleaned_value != cell_value:\n",
    "                    changed_cells += 1\n",
    "                return cleaned_value\n",
    "            return cell_value\n",
    "\n",
    "        for col in columns:\n",
    "            df[col] = df[col].apply(strip_quotes)\n",
    "        print(f\"Quotes removed from {changed_cells} cells.\")\n",
    "    \n",
    "    # Apply the quote removal\n",
    "    remove_quotes(df, ['race', 'race_o', 'field'])\n",
    "\n",
    "    ######################################################################\n",
    "    # Function to convert the 'field' column to lowercase\n",
    "    def standardize_lowercase(df, column):\n",
    "        changed_cells_lowercase = 0\n",
    "        def to_lower(cell_value):\n",
    "            nonlocal changed_cells_lowercase\n",
    "            if isinstance(cell_value, str) and cell_value != cell_value.lower():\n",
    "                changed_cells_lowercase += 1\n",
    "                return cell_value.lower()\n",
    "            return cell_value\n",
    "\n",
    "        df[column] = df[column].apply(to_lower)\n",
    "        print(f\"Standardized {changed_cells_lowercase} cells to lower case.\")\n",
    "\n",
    "    # Apply lowercase conversion\n",
    "    standardize_lowercase(df, 'field')\n",
    "\n",
    "    ######################################################################\n",
    "    # Function to label encode specified columns\n",
    "    def label_encode_columns(df, columns):\n",
    "        label_encodings = {} # Creat a new dictionary\n",
    "        for col in columns:\n",
    "            unique_values = sorted(df[col].unique())  # Sort alphabetically/lexicographically\n",
    "            label_encodings[col] = {val: idx for idx, val in enumerate(unique_values)} # label_encodings[col] means creat a key[col] in the dictionary\n",
    "                                                                                       # This constructs a dictionary by looping through (for loop)\n",
    "            df[col] = df[col].map(label_encodings[col])\n",
    "        \n",
    "        # Output specific mappings\n",
    "        print(f\"Value assigned for male in column gender: {label_encodings['gender'].get('male', 'Not found')}.\")\n",
    "        print(f\"Value assigned for European/Caucasian-American in column race: {label_encodings['race'].get('European/Caucasian-American', 'Not found')}.\")\n",
    "        print(f\"Value assigned for Latino/Hispanic American in column race_o: {label_encodings['race_o'].get('Latino/Hispanic American', 'Not found')}.\")\n",
    "        print(f\"Value assigned for law in column field: {label_encodings['field'].get('law', 'Not found')}.\")\n",
    "    \n",
    "    # Apply label encoding\n",
    "    label_encode_columns(df, ['gender', 'race', 'race_o', 'field'])\n",
    "\n",
    "    ######################################################################\n",
    "    # Function to normalize scores for specified columns\n",
    "    def normalize_scores(df, columns, total_column):\n",
    "        df[total_column] = df[columns].sum(axis=1) # axis =1 means \"across columns\",For example, if columns = ['math', 'science', 'english'], \n",
    "                                                   # this will calculate the sum of these three scores for each row.\n",
    "        for col in columns:\n",
    "            df[col] = df[col] / df[total_column]\n",
    "    \n",
    "    # Normalize the participant and partner scores\n",
    "    participant_columns = ['attractive_important', 'sincere_important', 'intelligence_important', \n",
    "                           'funny_important', 'ambition_important', 'shared_interests_important']\n",
    "    partner_columns = ['pref_o_attractive', 'pref_o_sincere', 'pref_o_intelligence', \n",
    "                       'pref_o_funny', 'pref_o_ambitious', 'pref_o_shared_interests']\n",
    "    \n",
    "    normalize_scores(df, participant_columns, 'participant_total')\n",
    "    normalize_scores(df, partner_columns, 'partner_total')\n",
    "    ######################################################################\n",
    "    # Function to calculate and print the mean for specified columns\n",
    "    def calculate_means(df, columns):\n",
    "        for col in columns:\n",
    "            mean_value = round(df[col].mean(), 2)    #df[col].mean(): This calculates the mean (average) of the values in the column col.\n",
    "                                                     #round(..., 2): The result is rounded to 2 decimal\n",
    "            print(f\"Mean of {col}: {mean_value}\")\n",
    "    \n",
    "    # Calculate and print means\n",
    "    calculate_means(df, participant_columns)\n",
    "    calculate_means(df, partner_columns)\n",
    "    ######################################################################\n",
    "    # Save the cleaned data to a new CSV file\n",
    "    df.to_csv(output_file, index=False)\n",
    "    ######################################################################\n",
    "# call process_dating_csv function \n",
    "process_dating_csv(r'C:\\Users\\chen4469\\OneDrive - purdue.edu\\2.course\\5.2024 fall\\CS 573\\2. HW\\HW 2\\dating-full.csv', 'dating.csv')"
   ]
  },
  {
   "cell_type": "markdown",
   "id": "cc0cf93b-18a7-4020-941e-8dba6c5643b7",
   "metadata": {},
   "source": [
    "      "
   ]
  },
  {
   "cell_type": "markdown",
   "id": "7b84765c-2d96-4452-b75f-0b3ec0aef705",
   "metadata": {},
   "source": [
    "                             "
   ]
  },
  {
   "cell_type": "markdown",
   "id": "90a4d41b-a04c-40e3-a563-b2b986e47c43",
   "metadata": {},
   "source": [
    "                         "
   ]
  },
  {
   "cell_type": "markdown",
   "id": "d495a9fb-7c96-4280-aa9f-f41487b69ece",
   "metadata": {},
   "source": [
    "                    "
   ]
  },
  {
   "cell_type": "markdown",
   "id": "f1d73fa7-0526-4603-a587-a8fd3746b31d",
   "metadata": {},
   "source": [
    "              "
   ]
  },
  {
   "cell_type": "markdown",
   "id": "dd19bcee-d83d-4593-9ade-f97921d5dcc2",
   "metadata": {},
   "source": [
    "                "
   ]
  },
  {
   "cell_type": "markdown",
   "id": "0a884416-65fb-4ec4-b4fb-b6805441a1bc",
   "metadata": {},
   "source": [
    "                 "
   ]
  },
  {
   "cell_type": "markdown",
   "id": "e4c55cf4-7ee0-46e5-b028-3d6ed94ff8bc",
   "metadata": {},
   "source": [
    "                  "
   ]
  },
  {
   "cell_type": "markdown",
   "id": "b8ee3df9-1210-4742-a254-b2901797b828",
   "metadata": {},
   "source": [
    "           "
   ]
  },
  {
   "cell_type": "markdown",
   "id": "759b1bdf-2a92-4e6e-920a-410b9929e3e4",
   "metadata": {},
   "source": [
    "## Q2 Visualizing interesting trends in data"
   ]
  },
  {
   "cell_type": "code",
   "execution_count": 155,
   "id": "29a2cc77-a7fe-4985-bc4e-a7ca8eac04fb",
   "metadata": {
    "scrolled": true
   },
   "outputs": [
    {
     "data": {
      "image/png": "[encoded data removed]",
      "text/plain": [
       "<Figure size 1000x600 with 1 Axes>"
      ]
     },
     "metadata": {},
     "output_type": "display_data"
    }
   ],
   "source": [
    "def visualize_preferences(input_file: str):\n",
    "    # Load the dataset\n",
    "    df = pd.read_csv(input_file)\n",
    "\n",
    "    # Define the participant preference columns\n",
    "    preference_columns = ['attractive_important', 'sincere_important', 'intelligence_important', \n",
    "                          'funny_important', 'ambition_important', 'shared_interests_important']\n",
    "    \n",
    "    # Divide the dataset by gender\n",
    "    male_df = df[df['gender'] == 1]  # code 1 is for male, adjust based on encoding\n",
    "    female_df = df[df['gender'] == 0]  # code 0 is for female, adjust based on encoding\n",
    "    \n",
    "    # Compute the mean values for each column in the preference scores for males and females\n",
    "    male_means = male_df[preference_columns].mean()\n",
    "    female_means = female_df[preference_columns].mean()\n",
    "    \n",
    "    # Prepare data for bar plot\n",
    "    x = np.arange(len(preference_columns))  # the label locations\n",
    "    #This function from the NumPy library generates an array of evenly spaced values. \n",
    "    #By default, it creates values starting from 0 up to, but not including, the specified number.\n",
    "    \n",
    "    width = 0.35  # the width of the bars\n",
    "\n",
    "    # Plotting using pandas and numpy\n",
    "    fig, ax = plt.subplots(figsize=(10, 6)) #This line creates a figure (fig) and an axes object (ax) for the plot. \n",
    "    # The figure size is set to 10 inches by 6 inches. # fig is the entire figure (the container for the plot).\n",
    "    # ax represents the subplot or the actual plot where the bars will be drawn.\n",
    "\n",
    "    # Plot male and female preferences\n",
    "    ax.bar(x - width/2, male_means, width, label='Male')\n",
    "    ax.bar(x + width/2, female_means, width, label='Female')\n",
    "\n",
    "    # Add some text for labels, title and custom x-axis tick labels\n",
    "    ax.set_xlabel('Attributes')\n",
    "    ax.set_ylabel('Mean Importance')\n",
    "    ax.set_title('Comparison of Partner Preferences Score by Gender')\n",
    "    ax.set_xticks(x)\n",
    "    ax.set_xticklabels(preference_columns, rotation=45)\n",
    "    ax.legend()\n",
    "\n",
    "    # Display the plot\n",
    "    plt.tight_layout()\n",
    "    plt.show()\n",
    "\n",
    "#barchat of different gender\n",
    "visualize_preferences ('dating.csv')"
   ]
  },
  {
   "cell_type": "markdown",
   "id": "f609a412-1453-4796-afb5-981051524c14",
   "metadata": {},
   "source": [
    "Males' Preferences: Attractiveness is rated the highest by males, showing that it is an important characteristic they prioritize in romantic partners.\n",
    "Intelligence and funny attributes are also valued but to a slightly lesser degree.Ambition seems to be the least prioritized attribute by males, compared to the other traits.  \n",
    "\n",
    "Females' Preferences:Intelligence is the top-rated characteristics for females. Sincerity, attractiveness, and funny attributes are also valued but to a slightly lesser degree."
   ]
  },
  {
   "cell_type": "code",
   "execution_count": 174,
   "id": "1a530315-e87c-4d36-9edc-92fbf3d8c8c2",
   "metadata": {},
   "outputs": [
    {
     "data": {
      "image/png": "[encoded data removed]",
      "text/plain": [
       "<Figure size 1200x1200 with 6 Axes>"
      ]
     },
     "metadata": {},
     "output_type": "display_data"
    }
   ],
   "source": [
    "def analyze_ratings(input_file: str):\n",
    "    # Load the dataset\n",
    "    df = pd.read_csv(input_file)\n",
    "\n",
    "    # Define the six attributes in the set rating_of_partner_from_participant\n",
    "    rating_columns = ['attractive_partner', 'sincere_partner', 'intelligence_parter',  \n",
    "                      'funny_partner', 'ambition_partner', 'shared_interests_partner']\n",
    "\n",
    "    # Determine the number of distinct values for each attribute\n",
    "    distinct_values = {col: df[col].nunique() for col in rating_columns}\n",
    "\n",
    "    # Compute success rate for each value of each attribute\n",
    "    success_rates = {}\n",
    "    for col in rating_columns:\n",
    "        success_rates[col] = {}\n",
    "        # Get the distinct values for the column\n",
    "        distinct_vals = df[col].unique()\n",
    "        for val in distinct_vals:\n",
    "            # Get the subset of participants with this rating\n",
    "            subset = df[df[col] == val]\n",
    "            # Calculate the success rate (fraction of participants who gave a second date)\n",
    "            success_rate = subset['decision'].mean()  # Using 'decision' column\n",
    "            success_rates[col][val] = success_rate\n",
    "\n",
    "    # Generate scatter plots for each attribute\n",
    "    fig, axes = plt.subplots(3, 2, figsize=(12, 12))  # 3x2 grid of subplots\n",
    "    axes = axes.flatten()  # Flatten the 2D array of axes into a 1D array for easy iteration\n",
    "\n",
    "    for idx, col in enumerate(rating_columns):\n",
    "        values = list(success_rates[col].keys())\n",
    "        rates = list(success_rates[col].values())\n",
    "        axes[idx].scatter(values, rates)\n",
    "        axes[idx].set_title(f'Success Rate for {col}')\n",
    "        axes[idx].set_xlabel(f'Values of {col}')\n",
    "        axes[idx].set_ylabel('Success Rate')\n",
    "        axes[idx].grid(True)\n",
    "\n",
    "    plt.tight_layout()  # Adjusts the spacing between subplots for better display\n",
    "    plt.show()\n",
    "# the scatter plots of success rate\n",
    "analyze_ratings('dating.csv')"
   ]
  },
  {
   "cell_type": "markdown",
   "id": "69d90565-2f56-4f15-a492-38f2ba0b47f2",
   "metadata": {},
   "source": [
    "Across all attributes, there is a general trend where higher values for each partner attribute are associated with higher success rates.  \n",
    "The increase in success rate is most pronounced for attractiveness, intelligence, and funny attributes, while attributes like sincerity, ambition, and shared interests also show positive correlations but with a more gradual rise.                   "
   ]
  },
  {
   "cell_type": "markdown",
   "id": "35b64bb2-ac50-4868-b708-8ffd5eda0900",
   "metadata": {},
   "source": [
    "                              "
   ]
  },
  {
   "cell_type": "markdown",
   "id": "fef1b632-138f-4ab9-8d92-1a31147ad09b",
   "metadata": {},
   "source": [
    "                          "
   ]
  },
  {
   "cell_type": "markdown",
   "id": "966a17fa-fc30-45be-8ad0-06b541a23f85",
   "metadata": {},
   "source": [
    "                          "
   ]
  },
  {
   "cell_type": "markdown",
   "id": "24713040-34bc-4fc4-9e28-1e03e4b1f8fe",
   "metadata": {},
   "source": [
    "                          "
   ]
  },
  {
   "cell_type": "markdown",
   "id": "206b6514-bb31-40ac-943b-11895af48c44",
   "metadata": {},
   "source": [
    "                          "
   ]
  },
  {
   "cell_type": "markdown",
   "id": "c8f79121-08e7-4a8f-8dab-a633f8fcd9e5",
   "metadata": {},
   "source": [
    "                          "
   ]
  },
  {
   "cell_type": "markdown",
   "id": "60c60acc-6d8f-48f7-b276-80db3debafa5",
   "metadata": {},
   "source": [
    "                          "
   ]
  },
  {
   "cell_type": "markdown",
   "id": "8e508ac8-28b8-4f4c-afed-a44fe3edb56c",
   "metadata": {},
   "source": [
    "                          "
   ]
  },
  {
   "cell_type": "markdown",
   "id": "42d49ca0-2d1a-4b0a-932b-3f51340c197d",
   "metadata": {},
   "source": [
    "                          "
   ]
  },
  {
   "cell_type": "markdown",
   "id": "2076360c-afd3-4bdd-a03f-fb642456c030",
   "metadata": {},
   "source": [
    "                          "
   ]
  },
  {
   "cell_type": "markdown",
   "id": "d5291a39-647c-4e14-b47a-17e3dcf26edd",
   "metadata": {},
   "source": [
    "                          "
   ]
  },
  {
   "cell_type": "markdown",
   "id": "85242497-0365-4768-b49d-a674d5650e04",
   "metadata": {},
   "source": [
    "                          "
   ]
  },
  {
   "cell_type": "markdown",
   "id": "b74baf22-2226-42a8-bbee-e0639663dcb0",
   "metadata": {},
   "source": [
    "                          "
   ]
  },
  {
   "cell_type": "markdown",
   "id": "9603f988-9441-4137-b4c4-967b1c5a24c7",
   "metadata": {},
   "source": [
    "                          "
   ]
  },
  {
   "cell_type": "markdown",
   "id": "8e8abe49-3358-40d4-aa10-e00926c37baa",
   "metadata": {},
   "source": [
    "                          "
   ]
  },
  {
   "cell_type": "markdown",
   "id": "98433c97-59b5-4c37-b434-c3802a6ed239",
   "metadata": {},
   "source": [
    "                          "
   ]
  },
  {
   "cell_type": "markdown",
   "id": "854c6e1d-9691-4e14-90de-ea9e47fc5421",
   "metadata": {},
   "source": [
    "                          "
   ]
  },
  {
   "cell_type": "markdown",
   "id": "499516a7-ccf6-4cc9-aee5-5225857d5844",
   "metadata": {},
   "source": [
    "                          "
   ]
  },
  {
   "cell_type": "markdown",
   "id": "4806b426-074a-4136-9b21-a079c86991a7",
   "metadata": {},
   "source": [
    "                          "
   ]
  },
  {
   "cell_type": "markdown",
   "id": "549a24a2-b390-4ba1-ba9d-6d5365b97e0b",
   "metadata": {},
   "source": [
    "                          "
   ]
  },
  {
   "cell_type": "markdown",
   "id": "0e5b5fb8-f59a-451e-b302-fd9c8f64c606",
   "metadata": {},
   "source": [
    "                          "
   ]
  },
  {
   "cell_type": "markdown",
   "id": "b48f7f04-76a3-41b8-b71c-7a73e2c864b8",
   "metadata": {},
   "source": [
    "                          "
   ]
  },
  {
   "cell_type": "markdown",
   "id": "41587205-2733-4992-9748-0d4ec1e1266f",
   "metadata": {},
   "source": [
    "                          "
   ]
  },
  {
   "cell_type": "markdown",
   "id": "aedc13a6-3387-4daf-bddd-63797b70e996",
   "metadata": {},
   "source": [
    "                          "
   ]
  },
  {
   "cell_type": "markdown",
   "id": "1888dd84-9e52-4981-97ae-76a17a634ba9",
   "metadata": {},
   "source": [
    "                          "
   ]
  },
  {
   "cell_type": "markdown",
   "id": "e2247f31-338d-4293-b9ed-40bd91d0919a",
   "metadata": {},
   "source": [
    "                          "
   ]
  },
  {
   "cell_type": "markdown",
   "id": "a97d7433-17e5-43ae-8f26-5c127139c0d2",
   "metadata": {},
   "source": [
    "                          "
   ]
  },
  {
   "cell_type": "markdown",
   "id": "7791ac07-d287-432d-9995-4d043de6025a",
   "metadata": {},
   "source": [
    "                          "
   ]
  },
  {
   "cell_type": "markdown",
   "id": "bf17799a-2511-40ea-8baf-2dd14de85a99",
   "metadata": {},
   "source": [
    "                          "
   ]
  },
  {
   "cell_type": "markdown",
   "id": "e25f28f2-8e78-4c8c-9a89-93dd230832fe",
   "metadata": {},
   "source": [
    "                          "
   ]
  },
  {
   "cell_type": "markdown",
   "id": "b2e55f98-2b92-4da5-8d94-a8608f7d4501",
   "metadata": {},
   "source": [
    "                          "
   ]
  },
  {
   "cell_type": "markdown",
   "id": "2c0f2897-b2ff-4e25-bea0-307bb4fcdca5",
   "metadata": {},
   "source": [
    "                          "
   ]
  },
  {
   "cell_type": "markdown",
   "id": "f6720ccc-66ab-42ff-978b-bc44390788d5",
   "metadata": {},
   "source": [
    "                          "
   ]
  },
  {
   "cell_type": "markdown",
   "id": "a4035750-15d4-4138-b932-a685fd33db62",
   "metadata": {},
   "source": [
    "                          "
   ]
  },
  {
   "cell_type": "markdown",
   "id": "8813f2e0-30ff-4ac1-9c37-ff169746c6d8",
   "metadata": {},
   "source": [
    "                          "
   ]
  },
  {
   "cell_type": "markdown",
   "id": "7d8b7b87-f820-4d06-a29c-c92b02aa4fd8",
   "metadata": {},
   "source": [
    "                          "
   ]
  },
  {
   "cell_type": "markdown",
   "id": "843488ce-0ac9-4ae7-b0e5-648f4cf192b9",
   "metadata": {},
   "source": [
    "                          "
   ]
  },
  {
   "cell_type": "markdown",
   "id": "16f2cb5e-6a7a-4275-b8e0-db8241b830b6",
   "metadata": {},
   "source": [
    "                          "
   ]
  },
  {
   "cell_type": "markdown",
   "id": "6c65aa78-151c-43da-8b87-1345f286b2b7",
   "metadata": {},
   "source": [
    "                          "
   ]
  },
  {
   "cell_type": "markdown",
   "id": "2da1bfe1-51d4-4d65-bee0-0ea19a4087ae",
   "metadata": {},
   "source": [
    "                          "
   ]
  },
  {
   "cell_type": "markdown",
   "id": "27d69a68-4ee9-47b1-bb7c-24d90278b6d1",
   "metadata": {},
   "source": [
    "                          "
   ]
  },
  {
   "cell_type": "markdown",
   "id": "be438251-e78f-490e-b755-3e4c03d9cc40",
   "metadata": {},
   "source": [
    "                          "
   ]
  },
  {
   "cell_type": "markdown",
   "id": "a0a807f6-8547-4ecd-bef3-957de7145417",
   "metadata": {},
   "source": [
    "                          "
   ]
  },
  {
   "cell_type": "markdown",
   "id": "058dc3a4-6816-4c33-9461-8fde182cfceb",
   "metadata": {},
   "source": [
    "                          "
   ]
  },
  {
   "cell_type": "markdown",
   "id": "7af69566-243f-4b89-81c2-f9cdd205be79",
   "metadata": {},
   "source": [
    "                          "
   ]
  },
  {
   "cell_type": "markdown",
   "id": "88e16738-a6ea-4ebd-87c0-43df352059b4",
   "metadata": {},
   "source": [
    "## Q3 Convert continuous attributes to categorical attributes"
   ]
  },
  {
   "cell_type": "code",
   "execution_count": 79,
   "id": "94470c33-af9b-4754-b3d3-393e032fdfa4",
   "metadata": {
    "scrolled": true
   },
   "outputs": [
    {
     "name": "stdout",
     "output_type": "stream",
     "text": [
      "age: [3032, 3390, 297, 20, 5]\n",
      "age_o: [2990, 3362, 371, 16, 5]\n",
      "importance_same_race: [2980, 1213, 977, 1013, 561]\n",
      "importance_same_religion: [3203, 1188, 1110, 742, 501]\n",
      "pref_o_attractive: [4333, 1987, 344, 51, 29]\n",
      "pref_o_sincere: [1416, 4378, 865, 79, 6]\n",
      "pref_o_intelligence: [666, 3935, 1873, 189, 81]\n",
      "pref_o_funny: [1255, 4361, 1048, 55, 25]\n",
      "pref_o_ambitious: [1963, 2352, 2365, 42, 22]\n",
      "pref_o_shared_interests: [1506, 2068, 1981, 1042, 147]\n",
      "attractive_important: [4323, 2017, 328, 57, 19]\n",
      "sincere_important: [546, 2954, 2782, 377, 85]\n",
      "intelligence_important: [630, 3976, 1861, 210, 67]\n",
      "funny_important: [1282, 4306, 1070, 58, 28]\n",
      "ambition_important: [1913, 2373, 2388, 49, 21]\n",
      "shared_interests_important: [1464, 2197, 1950, 1007, 126]\n",
      "attractive: [131, 726, 899, 4122, 866]\n",
      "sincere: [57, 228, 352, 2715, 3392]\n",
      "intelligence: [127, 409, 732, 3190, 2286]\n",
      "funny: [19, 74, 1000, 2338, 3313]\n",
      "ambition: [225, 697, 559, 2876, 2387]\n",
      "attractive_partner: [284, 948, 2418, 2390, 704]\n",
      "sincere_partner: [94, 353, 1627, 3282, 1388]\n",
      "intelligence_parter: [36, 193, 1509, 3509, 1497]\n",
      "funny_partner: [279, 733, 2296, 2600, 836]\n",
      "ambition_partner: [119, 473, 2258, 2804, 1090]\n",
      "shared_interests_partner: [701, 1269, 2536, 1774, 464]\n",
      "sports: [650, 961, 1369, 2077, 1687]\n",
      "tvsports: [2151, 1292, 1233, 1383, 685]\n",
      "exercise: [619, 952, 1775, 2115, 1283]\n",
      "dining: [39, 172, 1118, 2797, 2618]\n",
      "museums: [117, 732, 1417, 2737, 1741]\n",
      "art: [224, 946, 1557, 2500, 1517]\n",
      "hiking: [963, 1386, 1575, 1855, 965]\n",
      "gaming: [2565, 1522, 1435, 979, 243]\n",
      "clubbing: [912, 1068, 1668, 2193, 903]\n",
      "reading: [131, 398, 1071, 2317, 2827]\n",
      "tv: [1188, 1216, 1999, 1642, 699]\n",
      "theater: [288, 811, 1585, 2300, 1760]\n",
      "movies: [144, 462, 530, 2783, 2825]\n",
      "concerts: [222, 777, 1752, 2282, 1711]\n",
      "music: [62, 196, 1106, 2583, 2797]\n",
      "shopping: [1093, 1098, 1709, 1643, 1201]\n",
      "yoga: [2285, 1392, 1369, 1056, 642]\n",
      "interests_correlate: [75, 985, 2312, 2597, 775]\n",
      "expected_happy_with_sd_people: [321, 1262, 3292, 1596, 273]\n",
      "like: [273, 865, 2539, 2560, 507]\n"
     ]
    }
   ],
   "source": [
    "def discretize_columns(input_file: str, output_file: str, bin_num):\n",
    "    # Load the dataset\n",
    "    df = pd.read_csv(input_file)\n",
    "\n",
    "    # Define the columns to discretize (as continuous-valued columns) and their respective ranges\n",
    "    continuous_columns = {\n",
    "        'age': (18, 58),\n",
    "        'age_o': (18, 58),\n",
    "        'importance_same_race': (0, 10),\n",
    "        'importance_same_religion': (0, 10),\n",
    "        'pref_o_attractive': (0, 1),\n",
    "        'pref_o_sincere': (0, 1),\n",
    "        'pref_o_intelligence': (0, 1),\n",
    "        'pref_o_funny': (0, 1),\n",
    "        'pref_o_ambitious': (0, 1),\n",
    "        'pref_o_shared_interests': (0, 1),\n",
    "        'attractive_important': (0, 1),\n",
    "        'sincere_important': (0, 1),\n",
    "        'intelligence_important': (0, 1),\n",
    "        'funny_important': (0, 1),\n",
    "        'ambition_important': (0, 1),\n",
    "        'shared_interests_important': (0, 1),\n",
    "        'attractive': (0, 10),\n",
    "        'sincere': (0, 10),\n",
    "        'intelligence': (0, 10),\n",
    "        'funny': (0, 10),\n",
    "        'ambition': (0, 10),\n",
    "        'attractive_partner': (0, 10),\n",
    "        'sincere_partner': (0, 10),\n",
    "        'intelligence_parter': (0, 10),\n",
    "        'funny_partner': (0, 10),\n",
    "        'ambition_partner': (0, 10),\n",
    "        'shared_interests_partner': (0, 10),\n",
    "        'sports': (0, 10),\n",
    "        'tvsports': (0, 10),\n",
    "        'exercise': (0, 10),\n",
    "        'dining': (0, 10),\n",
    "        'museums': (0, 10),\n",
    "        'art': (0, 10),\n",
    "        'hiking': (0, 10),\n",
    "        'gaming': (0, 10),\n",
    "        'clubbing': (0, 10),\n",
    "        'reading': (0, 10),\n",
    "        'tv': (0, 10),\n",
    "        'theater': (0, 10),\n",
    "        'movies': (0, 10),\n",
    "        'concerts': (0, 10),\n",
    "        'music': (0, 10),\n",
    "        'shopping': (0, 10),\n",
    "        'yoga': (0, 10),\n",
    "        'interests_correlate': (-1, 1),  # Specific range for correlation\n",
    "        'expected_happy_with_sd_people': (0, 10),\n",
    "        'like': (0, 10)\n",
    "    }\n",
    "\n",
    "    # Dictionary to hold the bin counts\n",
    "    bin_counts = {}\n",
    "\n",
    "    # Process each column\n",
    "    for col, (min_val, max_val) in continuous_columns.items():\n",
    "        # Treat values outside the range as the maximum value\n",
    "        df[col] = df[col].clip(lower=min_val, upper=max_val)\n",
    "\n",
    "        # Create equal-width bins for the column based on bin_num\n",
    "        df[col], bins = pd.cut(df[col], bins=bin_num, retbins=True, labels=False, include_lowest=True)\n",
    "\n",
    "        # Count the number of items in each bin\n",
    "        bin_count = np.bincount(df[col])\n",
    "        bin_counts[col] = bin_count\n",
    "\n",
    "    # Save the binned dataset to a new CSV file\n",
    "    df.to_csv(output_file, index=False)\n",
    "    \n",
    "    # Return the bin counts\n",
    "    return bin_counts\n",
    "\n",
    "# Example usage\n",
    "bin_counts = discretize_columns('dating.csv', 'dating-binned.csv', 5)\n",
    "\n",
    "# Print the number of items in each bin for each column\n",
    "for column, values in bin_counts.items():\n",
    "    #Convert np.int64 values to regular integers\n",
    "    clean_values = [int(val) for val in values]\n",
    "    #Join the integers and format them for printing\n",
    "    print(f\"{column}: {clean_values}\")"
   ]
  },
  {
   "cell_type": "markdown",
   "id": "846beb10-b40a-4a55-baf4-c8d5a28ffc89",
   "metadata": {},
   "source": [
    "                                       "
   ]
  },
  {
   "cell_type": "markdown",
   "id": "5559714b-aa9d-4806-9f63-44248bd3ab10",
   "metadata": {},
   "source": [
    "                                                             "
   ]
  },
  {
   "cell_type": "markdown",
   "id": "684b557d-a443-4264-9fa9-a4d92027da02",
   "metadata": {},
   "source": [
    "                                                   "
   ]
  },
  {
   "cell_type": "markdown",
   "id": "a2df91bf-5c20-4431-b7a7-c70d46ba2525",
   "metadata": {},
   "source": [
    "                                              "
   ]
  },
  {
   "cell_type": "markdown",
   "id": "5fffa0c5-57d6-4e86-984a-4849cc8b1578",
   "metadata": {},
   "source": [
    "                                              "
   ]
  },
  {
   "cell_type": "markdown",
   "id": "1868a8a0-976a-4cdd-a560-49d7e6462821",
   "metadata": {},
   "source": [
    "                                              "
   ]
  },
  {
   "cell_type": "markdown",
   "id": "4abea756-16a4-4724-a42c-e922e46a9525",
   "metadata": {},
   "source": [
    "                                              "
   ]
  },
  {
   "cell_type": "markdown",
   "id": "0ba8dbaf-01e9-479a-a2de-fe1538ddf17e",
   "metadata": {},
   "source": [
    "                                              "
   ]
  },
  {
   "cell_type": "markdown",
   "id": "c5870c02-cbcf-43a6-955e-691a792b0cb7",
   "metadata": {},
   "source": [
    "                                              "
   ]
  },
  {
   "cell_type": "markdown",
   "id": "9d3c89a5-c8d0-4baf-9e89-53d60b79f93a",
   "metadata": {},
   "source": [
    "                                              "
   ]
  },
  {
   "cell_type": "markdown",
   "id": "4f1c9cda-67ff-4fb3-a44a-a5bf8aff205a",
   "metadata": {},
   "source": [
    "                                              "
   ]
  },
  {
   "cell_type": "markdown",
   "id": "7cf30c00-e82e-4a0a-8cd8-37d3ff8e63f2",
   "metadata": {},
   "source": [
    "                                              "
   ]
  },
  {
   "cell_type": "markdown",
   "id": "006d427f-d8ab-4479-b9a1-c46c147a32f2",
   "metadata": {},
   "source": [
    "                                              "
   ]
  },
  {
   "cell_type": "markdown",
   "id": "73a07a8d-40f6-42a6-bbd4-62558a88cfe7",
   "metadata": {},
   "source": [
    "                                              "
   ]
  },
  {
   "cell_type": "markdown",
   "id": "63360d5a-8279-4116-8957-34a2ec5db35b",
   "metadata": {},
   "source": [
    "                                              "
   ]
  },
  {
   "cell_type": "markdown",
   "id": "59b0b417-7a9b-4724-9bae-624a5ccd5235",
   "metadata": {},
   "source": [
    "                                              "
   ]
  },
  {
   "cell_type": "markdown",
   "id": "24507bf5-753b-4e4c-827b-12fb2ef654cc",
   "metadata": {},
   "source": [
    "                                              "
   ]
  },
  {
   "cell_type": "markdown",
   "id": "b472e847-11b7-469c-9ee1-d802f4b38413",
   "metadata": {},
   "source": [
    "                                              "
   ]
  },
  {
   "cell_type": "markdown",
   "id": "3eabc35b-a60d-4601-aa93-bd9c98e798cb",
   "metadata": {},
   "source": [
    "                                              "
   ]
  },
  {
   "cell_type": "markdown",
   "id": "2b543698-7108-49cf-ac2b-b76ee8b06a2d",
   "metadata": {},
   "source": [
    "                                              "
   ]
  },
  {
   "cell_type": "markdown",
   "id": "ab275c57-0aa6-4fb9-bfd4-1216503e8a06",
   "metadata": {},
   "source": [
    "                                              "
   ]
  },
  {
   "cell_type": "markdown",
   "id": "2254c31a-ccb5-4346-8b8c-1738fb3df4cb",
   "metadata": {},
   "source": [
    "                                              "
   ]
  },
  {
   "cell_type": "markdown",
   "id": "ce056a09-dbed-494e-b323-075c27e710c4",
   "metadata": {},
   "source": [
    "                                              "
   ]
  },
  {
   "cell_type": "markdown",
   "id": "52d080c2-dd51-40f2-a230-1ba718b914a1",
   "metadata": {},
   "source": [
    "                                              "
   ]
  },
  {
   "cell_type": "markdown",
   "id": "8217e154-3c61-4fe5-9747-217ddfbdaf51",
   "metadata": {},
   "source": [
    "                                              "
   ]
  },
  {
   "cell_type": "markdown",
   "id": "1e788f0c-934e-473a-a280-baa18c2caeba",
   "metadata": {},
   "source": [
    "                                              "
   ]
  },
  {
   "cell_type": "markdown",
   "id": "3e8e2608-db3d-494c-b3c9-b7a39503e51b",
   "metadata": {},
   "source": [
    "                                              "
   ]
  },
  {
   "cell_type": "markdown",
   "id": "3c529fa7-0bcc-4dae-aa94-fd0c9a634799",
   "metadata": {},
   "source": [
    "                                              "
   ]
  },
  {
   "cell_type": "markdown",
   "id": "d7d091f3-f850-4d9d-89d0-43fd18b5eadd",
   "metadata": {},
   "source": [
    "                                              "
   ]
  },
  {
   "cell_type": "markdown",
   "id": "d26bc86e-a277-4153-9dbf-0dc4226fe8dd",
   "metadata": {},
   "source": [
    "                                              "
   ]
  },
  {
   "cell_type": "markdown",
   "id": "3015e2eb-48f4-4e5b-8a86-995274f53c95",
   "metadata": {},
   "source": [
    "                                              "
   ]
  },
  {
   "cell_type": "markdown",
   "id": "98c1541a-f0b8-49fc-bb41-524e369dfa54",
   "metadata": {},
   "source": [
    "                                              "
   ]
  },
  {
   "cell_type": "markdown",
   "id": "67425c72-3360-45bf-936a-8424aae4b5f8",
   "metadata": {},
   "source": [
    "                                              "
   ]
  },
  {
   "cell_type": "markdown",
   "id": "a1161a9e-e059-4eb8-84fd-029d93cdd44b",
   "metadata": {},
   "source": [
    "                                              "
   ]
  },
  {
   "cell_type": "markdown",
   "id": "f0bd384a-196d-4696-9117-330b32895597",
   "metadata": {},
   "source": [
    "                                              "
   ]
  },
  {
   "cell_type": "markdown",
   "id": "790d2100-3247-4f71-8898-d37b4b999b52",
   "metadata": {},
   "source": [
    "                                              "
   ]
  },
  {
   "cell_type": "markdown",
   "id": "a6737a80-08e7-4767-a47e-a5fabd54dcf6",
   "metadata": {},
   "source": [
    "                                              "
   ]
  },
  {
   "cell_type": "markdown",
   "id": "0b9a8900-1ad8-431e-9e77-8aca4eb47382",
   "metadata": {},
   "source": [
    "                                              "
   ]
  },
  {
   "cell_type": "markdown",
   "id": "23db2831-2603-4e05-bac2-ed0acf784278",
   "metadata": {},
   "source": [
    "                                              "
   ]
  },
  {
   "cell_type": "markdown",
   "id": "41f64a12-6332-4dc3-9121-04567807d97d",
   "metadata": {},
   "source": [
    "                                              "
   ]
  },
  {
   "cell_type": "markdown",
   "id": "57183b26-7ee6-49a9-bce7-3e59f11ef169",
   "metadata": {},
   "source": [
    "                                              "
   ]
  },
  {
   "cell_type": "markdown",
   "id": "b6ff432f-ed1f-4666-b9ef-b108009c623a",
   "metadata": {},
   "source": [
    "                                              "
   ]
  },
  {
   "cell_type": "markdown",
   "id": "d460c06e-ae5b-43e2-8412-09ad31c83dba",
   "metadata": {},
   "source": [
    "                                              "
   ]
  },
  {
   "cell_type": "markdown",
   "id": "4e9ae5d9-793b-45d7-b0fe-3781628b5b30",
   "metadata": {},
   "source": [
    "                                              "
   ]
  },
  {
   "cell_type": "markdown",
   "id": "05ec409d-c830-4a07-b88b-ff6c5a8ea353",
   "metadata": {},
   "source": [
    "                           "
   ]
  },
  {
   "cell_type": "markdown",
   "id": "157938a7-41ba-4111-a0cd-8f03564666d6",
   "metadata": {},
   "source": [
    "                             "
   ]
  },
  {
   "cell_type": "markdown",
   "id": "8c732887-1db0-47a4-a9d1-a72c0bcc8522",
   "metadata": {},
   "source": [
    "                             "
   ]
  },
  {
   "cell_type": "markdown",
   "id": "c1cf60a9-0e7b-4213-9429-885b2362cdc6",
   "metadata": {},
   "source": [
    "                             "
   ]
  },
  {
   "cell_type": "markdown",
   "id": "6e48721c-24a6-4cdf-8938-1e6a191f45e6",
   "metadata": {},
   "source": [
    "                             "
   ]
  },
  {
   "cell_type": "markdown",
   "id": "d823144e-4f7e-4bae-8ab4-ddcac64c4dd3",
   "metadata": {},
   "source": [
    "                             "
   ]
  },
  {
   "cell_type": "markdown",
   "id": "02545082-b493-4841-a691-ab5569cd73a4",
   "metadata": {},
   "source": [
    "                             "
   ]
  },
  {
   "cell_type": "markdown",
   "id": "d692a006-8f06-49db-93c2-b978ebd5b721",
   "metadata": {},
   "source": [
    "                             "
   ]
  },
  {
   "cell_type": "markdown",
   "id": "a5ecb037-6b74-404f-a26f-12dce0c38946",
   "metadata": {},
   "source": [
    "                             "
   ]
  },
  {
   "cell_type": "markdown",
   "id": "af10382b-cade-4d88-a69a-c5f6c439ee81",
   "metadata": {},
   "source": [
    "                             "
   ]
  },
  {
   "cell_type": "markdown",
   "id": "1be2adb4-eecf-4b10-9838-0ab33ce7969d",
   "metadata": {},
   "source": [
    "                             "
   ]
  },
  {
   "cell_type": "markdown",
   "id": "6d4816c1-04ff-4d77-b12f-cf3b9e5203cf",
   "metadata": {},
   "source": [
    "                              "
   ]
  },
  {
   "cell_type": "markdown",
   "id": "5b714728-253a-4ed2-bb6d-50fa7eb9f971",
   "metadata": {},
   "source": [
    "                              "
   ]
  },
  {
   "cell_type": "markdown",
   "id": "e8202a51-8d11-4f83-bc71-0a1d1e740254",
   "metadata": {},
   "source": [
    "                              "
   ]
  },
  {
   "cell_type": "markdown",
   "id": "6594413c-abec-4af2-ade7-a7352e63206b",
   "metadata": {},
   "source": [
    "                              "
   ]
  },
  {
   "cell_type": "markdown",
   "id": "64f3cd80-8a94-45da-835e-98f397345a14",
   "metadata": {},
   "source": [
    "                              "
   ]
  },
  {
   "cell_type": "markdown",
   "id": "86e76553-28ee-4aa7-8627-2f207aef1aa2",
   "metadata": {},
   "source": [
    "                              "
   ]
  },
  {
   "cell_type": "markdown",
   "id": "c092a494-5388-42ac-ba3c-69acdacd31b2",
   "metadata": {},
   "source": [
    "                              "
   ]
  },
  {
   "cell_type": "markdown",
   "id": "f1211db4-0484-4c2f-9614-ea03d5444c5e",
   "metadata": {},
   "source": [
    "                              "
   ]
  },
  {
   "cell_type": "markdown",
   "id": "838d4407-450c-4f6a-9634-45fd9504d80d",
   "metadata": {},
   "source": [
    "                              "
   ]
  },
  {
   "cell_type": "markdown",
   "id": "63058208-6593-4c9a-8468-e6f29d879b5e",
   "metadata": {},
   "source": [
    "                              "
   ]
  },
  {
   "cell_type": "markdown",
   "id": "0d9d9335-39ad-432e-b5ef-6fb37d06b162",
   "metadata": {},
   "source": [
    "                              "
   ]
  },
  {
   "cell_type": "markdown",
   "id": "6f512bb5-d09b-4add-8c79-0cd768705d17",
   "metadata": {},
   "source": [
    "                           "
   ]
  },
  {
   "cell_type": "markdown",
   "id": "ccef02ce-5a54-449f-a818-e2219330ae60",
   "metadata": {},
   "source": [
    "## Q4 Training-Test Split"
   ]
  },
  {
   "cell_type": "code",
   "execution_count": 81,
   "id": "22de5698-4ec4-458e-b0c8-78220da08271",
   "metadata": {},
   "outputs": [],
   "source": [
    "def split_train_test(input_file: str, train_file: str, test_file: str):\n",
    "    # Read the dataset from the CSV file\n",
    "    df = pd.read_csv(input_file)\n",
    "    \n",
    "    # Randomly sample 20% of the data for the test set using random_state=47\n",
    "    test_set = df.sample(frac=0.2, random_state=47)\n",
    "    \n",
    "    # The remaining 80% will be used as the training set\n",
    "    train_set = df.drop(test_set.index)\n",
    "    \n",
    "    # Save the test set to a CSV file\n",
    "    test_set.to_csv(test_file, index=False)\n",
    "    \n",
    "    # Save the training set to a CSV file\n",
    "    train_set.to_csv(train_file, index=False)\n",
    "\n",
    "# Call the function with input and output file names\n",
    "split_train_test('dating-binned.csv', 'trainingSet.csv', 'testSet.csv')"
   ]
  },
  {
   "cell_type": "markdown",
   "id": "959cb049-346e-4452-9d10-4f6d95930f12",
   "metadata": {},
   "source": [
    "                                "
   ]
  },
  {
   "cell_type": "markdown",
   "id": "3e05b220-3762-47bd-9a12-9977117188b0",
   "metadata": {},
   "source": [
    "                                 "
   ]
  },
  {
   "cell_type": "markdown",
   "id": "287af5ac-07f3-43fb-af0d-721ec2cfa4bc",
   "metadata": {},
   "source": [
    "                                                         "
   ]
  },
  {
   "cell_type": "markdown",
   "id": "40b80b54-df34-4563-8779-d46e48c16ae6",
   "metadata": {},
   "source": [
    "                                                         "
   ]
  },
  {
   "cell_type": "markdown",
   "id": "84c7183e-19fd-4059-abf8-cd7b3141a220",
   "metadata": {},
   "source": [
    "                                                         "
   ]
  },
  {
   "cell_type": "markdown",
   "id": "6aec9104-3a2c-467d-b3d6-f5c0a194e6f5",
   "metadata": {},
   "source": [
    "                                                         "
   ]
  },
  {
   "cell_type": "markdown",
   "id": "b659ddfb-ed4f-49c1-a4a9-a2dc60ca38b5",
   "metadata": {},
   "source": [
    "                                                         "
   ]
  },
  {
   "cell_type": "markdown",
   "id": "d17d07cf-eb12-4529-9eb3-a95f6443bfa3",
   "metadata": {},
   "source": [
    "                                                         "
   ]
  },
  {
   "cell_type": "markdown",
   "id": "1325cde3-d953-43d7-87ec-92d8b8b1a405",
   "metadata": {},
   "source": [
    "                                                         "
   ]
  },
  {
   "cell_type": "markdown",
   "id": "df87e46a-04ca-4ed8-8e66-2f276bf6bab1",
   "metadata": {},
   "source": [
    "                                                         "
   ]
  },
  {
   "cell_type": "markdown",
   "id": "145d28f5-d330-4575-82de-868eb8b5f74c",
   "metadata": {},
   "source": [
    "                                                         "
   ]
  },
  {
   "cell_type": "markdown",
   "id": "ea6c3100-e149-4342-9d58-6c929538ef74",
   "metadata": {},
   "source": [
    "                                                         "
   ]
  },
  {
   "cell_type": "markdown",
   "id": "a6607474-91bc-4c2f-9df3-519cb691fd3b",
   "metadata": {},
   "source": [
    "                                                         "
   ]
  },
  {
   "cell_type": "markdown",
   "id": "11c49dd1-74b6-4812-bc14-f318540ff8de",
   "metadata": {},
   "source": [
    "                                                         "
   ]
  },
  {
   "cell_type": "markdown",
   "id": "36832133-d759-4ee6-aeb4-0397afedb767",
   "metadata": {},
   "source": [
    "                                                         "
   ]
  },
  {
   "cell_type": "markdown",
   "id": "5ff1e74d-465e-4eda-850c-663a33d77868",
   "metadata": {},
   "source": [
    "                                                         "
   ]
  },
  {
   "cell_type": "markdown",
   "id": "d83f96fa-5a15-44fe-a422-04c7193a7100",
   "metadata": {},
   "source": [
    "                                                         "
   ]
  },
  {
   "cell_type": "markdown",
   "id": "eb7faca8-0891-436a-802c-065662afc500",
   "metadata": {},
   "source": [
    "                                                         "
   ]
  },
  {
   "cell_type": "markdown",
   "id": "50113da3-e882-4cf5-a5f8-8c8af7a6fdfe",
   "metadata": {},
   "source": [
    "                                                         "
   ]
  },
  {
   "cell_type": "markdown",
   "id": "73692ad4-ddda-4b87-b8ec-14e4aaf4b292",
   "metadata": {},
   "source": [
    "                                                         "
   ]
  },
  {
   "cell_type": "markdown",
   "id": "feb36747-bf23-47d9-ac0b-921a4f50806a",
   "metadata": {},
   "source": [
    "                                                         "
   ]
  },
  {
   "cell_type": "markdown",
   "id": "588b7d65-2f10-4ad1-a5da-0a50a024d6c3",
   "metadata": {},
   "source": [
    "                                                         "
   ]
  },
  {
   "cell_type": "markdown",
   "id": "abf52834-369b-4eb8-9f1c-877c1ddcda10",
   "metadata": {},
   "source": [
    "                                                         "
   ]
  },
  {
   "cell_type": "markdown",
   "id": "02e998e2-1d5a-4f26-b60f-1b11f650cec9",
   "metadata": {},
   "source": [
    "                                                         "
   ]
  },
  {
   "cell_type": "markdown",
   "id": "62d6d44e-5c5f-4807-89fa-83abd462dfa1",
   "metadata": {},
   "source": [
    "                                                         "
   ]
  },
  {
   "cell_type": "markdown",
   "id": "d42403d0-1f0f-471e-ada8-65eddc4986e8",
   "metadata": {},
   "source": [
    "                                                         "
   ]
  },
  {
   "cell_type": "markdown",
   "id": "101906a6-c011-4ae6-9c9f-488e4f4a5b5e",
   "metadata": {},
   "source": [
    "                                                         "
   ]
  },
  {
   "cell_type": "markdown",
   "id": "f639c1ad-b384-433c-ab13-b73ee643d8ca",
   "metadata": {},
   "source": [
    "                                                         "
   ]
  },
  {
   "cell_type": "markdown",
   "id": "37962846-463f-4dfd-951a-8c5c907cf819",
   "metadata": {},
   "source": [
    "                                                         "
   ]
  },
  {
   "cell_type": "markdown",
   "id": "716f19d5-230e-4893-ab7d-5b6fedc94ab2",
   "metadata": {},
   "source": [
    "                                                         "
   ]
  },
  {
   "cell_type": "markdown",
   "id": "413f9b6b-9e87-485f-89f3-b9112d23ff2b",
   "metadata": {},
   "source": [
    "                                                         "
   ]
  },
  {
   "cell_type": "markdown",
   "id": "9bd7d65d-4dc9-446b-8103-d84baf5cbfca",
   "metadata": {},
   "source": [
    "                                                         "
   ]
  },
  {
   "cell_type": "markdown",
   "id": "44ba2901-1dd5-4f88-937e-3bed34d11ee4",
   "metadata": {},
   "source": [
    "                                                         "
   ]
  },
  {
   "cell_type": "markdown",
   "id": "f4747750-f1f9-49d7-af83-12078fa664c2",
   "metadata": {},
   "source": [
    "                                                         "
   ]
  },
  {
   "cell_type": "markdown",
   "id": "48d1f15d-391e-4e9e-aee3-d656c415eba2",
   "metadata": {},
   "source": [
    "                                                         "
   ]
  },
  {
   "cell_type": "markdown",
   "id": "c3d2d62c-0c00-495a-8002-81c414a31a10",
   "metadata": {},
   "source": [
    "                                                         "
   ]
  },
  {
   "cell_type": "markdown",
   "id": "2da37ed0-aa41-44aa-a3a9-dcffc37bb206",
   "metadata": {},
   "source": [
    "                                                         "
   ]
  },
  {
   "cell_type": "markdown",
   "id": "67b1f540-0df8-4321-aa37-6d2d333e248a",
   "metadata": {},
   "source": [
    "                                                         "
   ]
  },
  {
   "cell_type": "markdown",
   "id": "dd21a0ef-cad5-45e4-aff8-a58eb16cb7a2",
   "metadata": {},
   "source": [
    "                                                         "
   ]
  },
  {
   "cell_type": "markdown",
   "id": "4a06bb68-eb61-453f-bb07-b4d5dce2a02f",
   "metadata": {},
   "source": [
    "                                                         "
   ]
  },
  {
   "cell_type": "markdown",
   "id": "601c9775-667b-4045-8fe0-5b6d1e0cbf6e",
   "metadata": {},
   "source": [
    "                                                         "
   ]
  },
  {
   "cell_type": "markdown",
   "id": "b3fe6924-6e4a-4295-8fc1-94c60180a41a",
   "metadata": {},
   "source": [
    "                                                         "
   ]
  },
  {
   "cell_type": "markdown",
   "id": "7ed9dce8-602f-4c7e-83bf-cd03f844c1cf",
   "metadata": {},
   "source": [
    "                                                         "
   ]
  },
  {
   "cell_type": "markdown",
   "id": "ff86af32-415a-470e-b04d-ccdd838c1f91",
   "metadata": {},
   "source": [
    "                                          "
   ]
  },
  {
   "cell_type": "markdown",
   "id": "26907828-7355-489c-b08f-becc0cccd9ba",
   "metadata": {},
   "source": [
    "                                              "
   ]
  },
  {
   "cell_type": "markdown",
   "id": "8e4780fb-e71c-4b27-9ce9-84950852ad71",
   "metadata": {},
   "source": [
    "                                                   "
   ]
  },
  {
   "cell_type": "markdown",
   "id": "99067e7d-3697-4ebd-8edf-e0b3321416b3",
   "metadata": {},
   "source": [
    "                          "
   ]
  },
  {
   "cell_type": "markdown",
   "id": "804c2b71-38ba-4a4f-b67e-9c2e5f90a14b",
   "metadata": {},
   "source": [
    "                                   "
   ]
  },
  {
   "cell_type": "markdown",
   "id": "50401c03-d376-4745-9bc2-86b7c6c2b435",
   "metadata": {},
   "source": [
    "                                             "
   ]
  },
  {
   "cell_type": "markdown",
   "id": "86b14d36-4f39-464a-bfc7-d49db92b72fd",
   "metadata": {},
   "source": [
    "                                            "
   ]
  },
  {
   "cell_type": "markdown",
   "id": "4575a9f0-0d08-4239-b7b1-0b78db644075",
   "metadata": {},
   "source": [
    "                                         "
   ]
  },
  {
   "cell_type": "markdown",
   "id": "eec8d751-22c1-41fb-8983-5e6ece1c697f",
   "metadata": {},
   "source": [
    "                                                 "
   ]
  },
  {
   "cell_type": "markdown",
   "id": "326f886a-9d7c-455b-8293-13d9a881f0a6",
   "metadata": {},
   "source": [
    "                             "
   ]
  },
  {
   "cell_type": "markdown",
   "id": "767d4fdf-56fa-4401-be3d-6b1ded1b0aed",
   "metadata": {},
   "source": [
    "                                          "
   ]
  },
  {
   "cell_type": "markdown",
   "id": "0e5af17d-3c2c-4667-87ab-38d13f96f283",
   "metadata": {},
   "source": [
    "                                              "
   ]
  },
  {
   "cell_type": "markdown",
   "id": "5c2cefa5-970a-4273-abd0-a2b82be24b6f",
   "metadata": {},
   "source": [
    "                                            "
   ]
  },
  {
   "cell_type": "markdown",
   "id": "681bd955-4702-4fbb-9932-f306c7f401a9",
   "metadata": {},
   "source": [
    "                                         "
   ]
  },
  {
   "cell_type": "markdown",
   "id": "65a2b4f0-0d33-45ea-9196-d3843898d2b4",
   "metadata": {},
   "source": [
    "                                           "
   ]
  },
  {
   "cell_type": "markdown",
   "id": "ee0a8ac8-4760-4b24-a96f-5684002e79fb",
   "metadata": {},
   "source": [
    "                                         "
   ]
  },
  {
   "cell_type": "markdown",
   "id": "a0aee0b8-78bd-4dce-9dd2-5f24f90872ee",
   "metadata": {},
   "source": [
    "                                           "
   ]
  },
  {
   "cell_type": "markdown",
   "id": "65c7d282-cdda-40e2-8389-10ec205aa702",
   "metadata": {},
   "source": [
    "                                         "
   ]
  },
  {
   "cell_type": "markdown",
   "id": "7c1e6e6b-6b3c-4785-810c-036db23cbb13",
   "metadata": {},
   "source": [
    "                                                  "
   ]
  },
  {
   "cell_type": "markdown",
   "id": "6954210b-c62c-4e80-9cfe-7422f8495238",
   "metadata": {},
   "source": [
    "                                                "
   ]
  },
  {
   "cell_type": "markdown",
   "id": "66126917-0f75-45e0-b816-b6dd00d6c037",
   "metadata": {},
   "source": [
    "                   "
   ]
  },
  {
   "cell_type": "markdown",
   "id": "273dc441-370a-4ea1-a5d7-12d85dc2eda7",
   "metadata": {},
   "source": [
    "                   "
   ]
  },
  {
   "cell_type": "markdown",
   "id": "a898e878-90d4-45d3-ad49-2b158ea98c86",
   "metadata": {},
   "source": [
    "                   "
   ]
  },
  {
   "cell_type": "markdown",
   "id": "5d1e7cbf-144d-4219-89e2-f8fb40044a36",
   "metadata": {},
   "source": [
    "                   "
   ]
  },
  {
   "cell_type": "markdown",
   "id": "824c594e-83a3-4ae7-8569-47f353b30f31",
   "metadata": {},
   "source": [
    "                   "
   ]
  },
  {
   "cell_type": "markdown",
   "id": "18617136-2186-4f03-8266-d453f835b3e5",
   "metadata": {},
   "source": [
    "                   "
   ]
  },
  {
   "cell_type": "markdown",
   "id": "8207dabe-9afb-4a7c-80a7-8d8addd3f17d",
   "metadata": {},
   "source": [
    "                   "
   ]
  },
  {
   "cell_type": "markdown",
   "id": "56e2eaa6-ba4f-4cd6-9c79-07f93a1e7921",
   "metadata": {},
   "source": [
    "                   "
   ]
  },
  {
   "cell_type": "markdown",
   "id": "f587b1a2-6382-44e0-b0bd-71b63871c909",
   "metadata": {},
   "source": [
    "                   "
   ]
  },
  {
   "cell_type": "markdown",
   "id": "4a5d2bc3-9d39-4a7d-abd0-97a6f7be6719",
   "metadata": {},
   "source": [
    "                   "
   ]
  },
  {
   "cell_type": "markdown",
   "id": "926a3bce-c524-4f82-8963-4a62926f5ecf",
   "metadata": {},
   "source": [
    "                   "
   ]
  },
  {
   "cell_type": "markdown",
   "id": "921525ae-77d1-4226-92aa-e6a03deb389e",
   "metadata": {},
   "source": [
    "                   "
   ]
  },
  {
   "cell_type": "markdown",
   "id": "b90779ad-226c-4ac1-a2d4-b3168cecbc72",
   "metadata": {},
   "source": [
    "                   "
   ]
  },
  {
   "cell_type": "markdown",
   "id": "2ba37b6e-a515-47ef-8163-cfd30ff93315",
   "metadata": {},
   "source": [
    "              "
   ]
  },
  {
   "cell_type": "markdown",
   "id": "b76d73ed-8680-4533-80cb-09b1c06ac574",
   "metadata": {},
   "source": [
    "                    "
   ]
  },
  {
   "cell_type": "markdown",
   "id": "5089e745-877b-429c-9a76-379dbcc78b2e",
   "metadata": {},
   "source": [
    "                           "
   ]
  },
  {
   "cell_type": "markdown",
   "id": "ab3ff0a3-92bb-48a2-b8b6-0671714c6de0",
   "metadata": {},
   "source": [
    "                          "
   ]
  },
  {
   "cell_type": "markdown",
   "id": "7003bf77-7f2e-4911-ad12-27cc653058ff",
   "metadata": {},
   "source": [
    "## Q5 Implement a Naive Bayes Classifier"
   ]
  },
  {
   "cell_type": "markdown",
   "id": "ea99433d-1bff-41c6-8a31-81c179a36fe8",
   "metadata": {},
   "source": [
    "(a)"
   ]
  },
  {
   "cell_type": "code",
   "execution_count": 83,
   "id": "1e90744d-b852-4fb2-a1ce-f514970f4049",
   "metadata": {
    "scrolled": true
   },
   "outputs": [
    {
     "name": "stdout",
     "output_type": "stream",
     "text": [
      "Training Accuracy: 0.78\n",
      "Testing Accuracy: 0.74\n"
     ]
    },
    {
     "data": {
      "text/plain": [
       "(0.7829471733086191, 0.7449962935507783)"
      ]
     },
     "execution_count": 83,
     "metadata": {},
     "output_type": "execute_result"
    }
   ],
   "source": [
    "# Function to calculate prior probabilities and likelihoods\n",
    "def calculate_class_probabilities(df, target_col):\n",
    "    # Separate the data by class\n",
    "    class_probabilities = {}\n",
    "    total_count = len(df)\n",
    "\n",
    "    for class_value in df[target_col].unique():\n",
    "        # Filter rows of this class\n",
    "        class_data = df[df[target_col] == class_value]\n",
    "        class_prob = len(class_data) / total_count  # Prior probability P(Class)\n",
    "        \n",
    "        # Calculate likelihoods P(Feature | Class)\n",
    "        feature_probabilities = {}\n",
    "        for feature in df.columns:\n",
    "            if feature == target_col:\n",
    "                continue\n",
    "            feature_probabilities[feature] = {}\n",
    "            for value in df[feature].unique():\n",
    "                feature_likelihood = len(class_data[class_data[feature] == value]) / len(class_data)\n",
    "                feature_probabilities[feature][value] = feature_likelihood\n",
    "        \n",
    "        class_probabilities[class_value] = {\n",
    "            'prior': class_prob,\n",
    "            'likelihoods': feature_probabilities\n",
    "        }\n",
    "    \n",
    "    return class_probabilities\n",
    "\n",
    "# Function to predict class for a single instance\n",
    "def predict_instance(instance, class_probabilities):\n",
    "    results = {}\n",
    "    for class_value, class_info in class_probabilities.items():\n",
    "        total_prob = np.log(class_info['prior'])  # Log of prior probability\n",
    "\n",
    "        for feature, value in instance.items():\n",
    "            if feature in class_info['likelihoods']:\n",
    "                feature_probs = class_info['likelihoods'][feature]\n",
    "                \n",
    "                # Use Laplace smoothing: avoid zero probabilities\n",
    "                likelihood = feature_probs.get(value, 1e-6)  # Get the likelihood or a small value\n",
    "                \n",
    "                # Ensure we don't pass zero or negative numbers to log\n",
    "                likelihood = max(likelihood, 1e-6)\n",
    "                total_prob += np.log(likelihood)\n",
    "\n",
    "        results[class_value] = total_prob\n",
    "    \n",
    "    return max(results, key=results.get)\n",
    "\n",
    "# Main Naive Bayes function\n",
    "def nbc(t_frac, train_file, test_file):\n",
    "\n",
    "    # Load the datasets from CSV files\n",
    "    train_df = pd.read_csv(train_file)\n",
    "    test_df = pd.read_csv(test_file)\n",
    "\n",
    "    # Sample the fraction of training data\n",
    "    train_sample = train_df.sample(frac=t_frac, random_state=47)\n",
    "    \n",
    "    # Calculate class probabilities and likelihoods\n",
    "    class_probabilities = calculate_class_probabilities(train_sample, 'decision')\n",
    "\n",
    "    # Predict on training data and calculate training accuracy\n",
    "    train_preds = train_sample.drop('decision', axis=1).apply(lambda x: predict_instance(x, class_probabilities), axis=1)\n",
    "    train_accuracy = np.mean(train_preds == train_sample['decision'])\n",
    "\n",
    "    # Predict on test data and calculate test accuracy\n",
    "    test_preds = test_df.drop('decision', axis=1).apply(lambda x: predict_instance(x, class_probabilities), axis=1)\n",
    "    test_accuracy = np.mean(test_preds == test_df['decision'])\n",
    "\n",
    "    # Print accuracies\n",
    "    print(f\"Training Accuracy: {round(train_accuracy, 2)}\")\n",
    "    print(f\"Testing Accuracy: {round(test_accuracy, 2)}\")\n",
    "\n",
    "    return train_accuracy,test_accuracy\n",
    "\n",
    "# call function nbc using full training data\n",
    "nbc(1, 'trainingSet.csv', 'testSet.csv')"
   ]
  },
  {
   "cell_type": "markdown",
   "id": "96834d17-f6be-4346-85b0-ffe7a9ca1a08",
   "metadata": {},
   "source": [
    "(b)"
   ]
  },
  {
   "cell_type": "code",
   "execution_count": 87,
   "id": "ea0ae78d-2dd0-4026-ac4c-c0e405676773",
   "metadata": {},
   "outputs": [
    {
     "name": "stdout",
     "output_type": "stream",
     "text": [
      "Bin size: 2\n",
      "Training Accuracy: 0.76\n",
      "Testing Accuracy: 0.71\n",
      "Bin size: 5\n",
      "Training Accuracy: 0.78\n",
      "Testing Accuracy: 0.74\n",
      "Bin size: 10\n",
      "Training Accuracy: 0.79\n",
      "Testing Accuracy: 0.75\n",
      "Bin size: 50\n",
      "Training Accuracy: 0.8\n",
      "Testing Accuracy: 0.76\n",
      "Bin size: 100\n",
      "Training Accuracy: 0.81\n",
      "Testing Accuracy: 0.76\n",
      "Bin size: 200\n",
      "Training Accuracy: 0.81\n",
      "Testing Accuracy: 0.75\n"
     ]
    },
    {
     "data": {
      "image/png": "[encoded data removed]",
      "text/plain": [
       "<Figure size 800x600 with 1 Axes>"
      ]
     },
     "metadata": {},
     "output_type": "display_data"
    }
   ],
   "source": [
    "# Define the bin sizes\n",
    "bin_sizes = [2, 5, 10, 50, 100, 200]\n",
    "\n",
    "# Initialize lists to store training and testing accuracies\n",
    "train_accuracies = []\n",
    "test_accuracies = []\n",
    "\n",
    "# Loop over different bin sizes\n",
    "for bins_num in bin_sizes:\n",
    "\n",
    "    # Use f-string to format the filenames for different bin sizes\n",
    "    output_file = f'dating-binned_{bins_num}.csv'\n",
    "    train_file = f'train_file_{bins_num}.csv'\n",
    "    test_file = f'test_file_{bins_num}.csv'\n",
    "\n",
    "    # Call the discretization and splitting functions\n",
    "    discretize_columns('dating.csv', output_file, bins_num)\n",
    "    split_train_test(output_file, train_file, test_file)\n",
    "\n",
    "    #print the bin size note\n",
    "    print(f\"Bin size: {bins_num}\")\n",
    "\n",
    "    # Call the NBC function\n",
    "    train_accuracy,test_accuracy= nbc(1, train_file, test_file)\n",
    "\n",
    "    # Store the results\n",
    "    train_accuracies.append(train_accuracy)\n",
    "    test_accuracies.append(test_accuracy)\n",
    "\n",
    "\n",
    "# Plot the results\n",
    "plt.figure(figsize=(8, 6))\n",
    "plt.plot(bin_sizes, train_accuracies, marker='o', label='Training Accuracy', color='blue')\n",
    "plt.plot(bin_sizes, test_accuracies, marker='o', label='Testing Accuracy', color='green')\n",
    "\n",
    "# Add labels and title\n",
    "plt.xlabel('Bin Size (b)')\n",
    "plt.ylabel('Accuracy')\n",
    "plt.title('NBC Model Accuracy vs. Bin Size')\n",
    "plt.legend()\n",
    "\n",
    "# Show the plot\n",
    "plt.grid(True)\n",
    "plt.show()"
   ]
  },
  {
   "cell_type": "markdown",
   "id": "861e9d48-91a9-4691-949c-6dc936ecdf5a",
   "metadata": {},
   "source": [
    "The divergence between training accuracy and testing accuracy as bin size increases suggests potential overfitting, where the model performs better on the training data but fails to generalize as effectively to unseen data.  \n",
    "The optimal bin size for this model seems to be around 50 to 100, where testing accuracy is maximized without significant overfitting.  \n",
    "In conclusion, while increasing bin size improves training accuracy, testing accuracy starts to decline after a certain point."
   ]
  },
  {
   "cell_type": "markdown",
   "id": "359811e7-e4b7-4c70-a598-4d7b6ba22c0d",
   "metadata": {},
   "source": [
    "(c)"
   ]
  },
  {
   "cell_type": "code",
   "execution_count": 85,
   "id": "14086a76-0547-4a19-b91e-3adc4e4f3b49",
   "metadata": {},
   "outputs": [
    {
     "name": "stdout",
     "output_type": "stream",
     "text": [
      "The value of f: 0.01\n",
      "Training Accuracy: 1.0\n",
      "Testing Accuracy: 0.63\n",
      "The value of f: 0.1\n",
      "Training Accuracy: 0.87\n",
      "Testing Accuracy: 0.71\n",
      "The value of f: 0.2\n",
      "Training Accuracy: 0.81\n",
      "Testing Accuracy: 0.72\n",
      "The value of f: 0.5\n",
      "Training Accuracy: 0.8\n",
      "Testing Accuracy: 0.74\n",
      "The value of f: 0.6\n",
      "Training Accuracy: 0.79\n",
      "Testing Accuracy: 0.74\n",
      "The value of f: 0.75\n",
      "Training Accuracy: 0.78\n",
      "Testing Accuracy: 0.75\n",
      "The value of f: 0.9\n",
      "Training Accuracy: 0.78\n",
      "Testing Accuracy: 0.75\n",
      "The value of f: 1\n",
      "Training Accuracy: 0.78\n",
      "Testing Accuracy: 0.74\n"
     ]
    },
    {
     "data": {
      "image/png": "[encoded data removed]",
      "text/plain": [
       "<Figure size 800x600 with 1 Axes>"
      ]
     },
     "metadata": {},
     "output_type": "display_data"
    }
   ],
   "source": [
    "# Define the f value\n",
    "t_frac_value = [0.01, 0.1, 0.2, 0.5, 0.6, 0.75, 0.9, 1]\n",
    "\n",
    "# Initialize lists to store training and testing accuracies\n",
    "train_accuracies = []\n",
    "test_accuracies = []\n",
    "\n",
    "for t_frac in t_frac_value:\n",
    "\n",
    "    #print the f value note\n",
    "    print(f\"The value of f: {t_frac}\")\n",
    "\n",
    "    #call nbc and capture the train_accuracy and test_accuracy\n",
    "    train_accuracy,test_accuracy= nbc(t_frac, 'trainingSet.csv', 'testSet.csv')\n",
    "\n",
    "    # Store the results\n",
    "    train_accuracies.append(train_accuracy)\n",
    "    test_accuracies.append(test_accuracy)\n",
    "\n",
    "# Plot the results\n",
    "plt.figure(figsize=(8, 6))\n",
    "plt.plot(t_frac_value, train_accuracies, marker='o', label='Training Accuracy', color='blue')\n",
    "plt.plot(t_frac_value, test_accuracies, marker='o', label='Testing Accuracy', color='green')\n",
    "\n",
    "# Add labels and title\n",
    "plt.xlabel('Values of f')\n",
    "plt.ylabel('Accuracy')\n",
    "plt.title('NBC Model Accuracy vs. Values of f')\n",
    "plt.legend()\n",
    "\n",
    "# Show the plot\n",
    "plt.grid(True)\n",
    "plt.show()"
   ]
  },
  {
   "cell_type": "markdown",
   "id": "6fcc09e3-8e16-4ec2-a860-b88907c254ad",
   "metadata": {},
   "source": [
    "The significant gap between training and testing accuracy at lower f values (especially f = 0) indicates that the model is likely overfitting, as it achieves perfect training accuracy but poor generalization to the testing set.  \n",
    "As f increases, the model becomes less overfitted and more generalizable, leading to an improvement in testing accuracy, particularly between f = 0.2 and f = 0.6.The best balance between training and testing accuracy appears to be around f = 0.6, where the testing accuracy is highest, indicating a good trade-off between underfitting and overfitting.  \n",
    "Beyond that, further increases in f do not significantly enhance the model's performance and may even slightly degrade it."
   ]
  }
 ],
 "metadata": {
  "kernelspec": {
   "display_name": "Python 3 (ipykernel)",
   "language": "python",
   "name": "python3"
  },
  "language_info": {
   "codemirror_mode": {
    "name": "ipython",
    "version": 3
   },
   "file_extension": ".py",
   "mimetype": "text/x-python",
   "name": "python",
   "nbconvert_exporter": "python",
   "pygments_lexer": "ipython3",
   "version": "3.13.0"
  }
 },
 "nbformat": 4,
 "nbformat_minor": 5
}
